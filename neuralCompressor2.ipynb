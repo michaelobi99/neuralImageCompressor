{
 "cells": [
  {
   "cell_type": "code",
   "execution_count": null,
   "metadata": {},
   "outputs": [],
   "source": [
    "import os\n",
    "import math\n",
    "from math import sqrt\n",
    "\n",
    "from PIL import Image\n",
    "import numpy as np\n",
    "import matplotlib.pyplot as plt\n",
    "import torch\n",
    "from sklearn.datasets import load_digits\n",
    "from sklearn import datasets\n",
    "from torch.utils.data import Dataset, DataLoader\n",
    "from torchvision.transforms import transforms\n",
    "import torch.nn as nn\n",
    "import torch.nn.functional as F\n",
    "\n",
    "\n",
    "device = torch.device(\"cuda\" if torch.cuda.is_available() else \"cpu\")\n"
   ]
  },
  {
   "cell_type": "code",
   "execution_count": null,
   "metadata": {},
   "outputs": [],
   "source": [
    "EPS = 1.e-7"
   ]
  },
  {
   "cell_type": "markdown",
   "metadata": {},
   "source": [
    "### Dataset"
   ]
  },
  {
   "cell_type": "markdown",
   "metadata": {},
   "source": [
    "I use the MNIST Digits dataset. It consists of ~60000 training images of size 28x28.\n",
    "\n",
    "The goal of using this dataset is that everyone can run it on a laptop, without the use of a cloud provider."
   ]
  },
  {
   "cell_type": "code",
   "execution_count": null,
   "metadata": {},
   "outputs": [],
   "source": [
    "triain_img_path = \"MNIST_FASHION\\\\train-images-idx3-ubyte\"\n",
    "train_label_path = \"MNIST_FASHION\\\\train-labels-idx1-ubyte\"\n",
    "test_img_path = \"MNIST_FASHION\\\\t10k-images-idx3-ubyte\"\n",
    "test_label_path = \"MNIST_FASHION\\\\t10k-labels-idx1-ubyte\"\n",
    "\n",
    "with open(train_label_path, 'rb') as lbpath:\n",
    "    train_labels = np.frombuffer(lbpath.read(), dtype=np.uint8, offset=8)\n",
    "\n",
    "with open(triain_img_path, 'rb') as imgpath:\n",
    "    train_images = np.frombuffer(imgpath.read(), dtype=np.uint8, offset=16).reshape(len(train_labels), 784)\n",
    "\n",
    "\n",
    "with open(test_label_path, 'rb') as lbpath:\n",
    "    test_labels = np.frombuffer(lbpath.read(), dtype=np.uint8, offset=8)\n",
    "\n",
    "with open(test_img_path, 'rb') as imgpath:\n",
    "    test_images = np.frombuffer(imgpath.read(), dtype=np.uint8, offset=16).reshape(len(test_labels), 784)\n",
    "    \n",
    "\n",
    "train_file_list = train_images[:4000]\n",
    "valid_file_list = train_images[4000:4800]\n",
    "test_file_list = test_images[:100]\n",
    "\n",
    "img_size = (28, 28)\n",
    "transform = transforms.Compose([transforms.ToTensor(), transforms.Resize((img_size)),])\n",
    "\n",
    "class ImageDataset(Dataset):\n",
    "    def __init__(self, file_list, transform=None):\n",
    "        self.file_list = file_list\n",
    "        self.transform = transform\n",
    "        \n",
    "    def __len__(self):\n",
    "        return len(self.file_list)\n",
    "    \n",
    "    def __getitem__(self, index):\n",
    "        image = self.file_list[index]\n",
    "        image = np.array(image).astype(np.float32)\n",
    "        # image = Image.open(self.file_list[index])\n",
    "        # if self.transform is not None:\n",
    "        #     image = self.transform(image)\n",
    "\n",
    "        \n",
    "        # image = np.array(image).astype(np.float32)\n",
    "        # image = image.flatten()\n",
    "        #print(image)\n",
    "\n",
    "        #return image\n",
    "        return torch.from_numpy(image).to(device)"
   ]
  },
  {
   "cell_type": "markdown",
   "metadata": {},
   "source": [
    "### Auxiliary code"
   ]
  },
  {
   "cell_type": "markdown",
   "metadata": {},
   "source": [
    "Auxiliary code for running some parts, e.g., Causal Convolution 1D for the autoregressive model (ARM)."
   ]
  },
  {
   "cell_type": "markdown",
   "metadata": {},
   "source": [
    "**Causal Convolution for ARM**"
   ]
  },
  {
   "cell_type": "code",
   "execution_count": null,
   "metadata": {},
   "outputs": [],
   "source": [
    "class CausalConv1d(nn.Module):\n",
    "    \"\"\"\n",
    "    A causal 1D convolution.\n",
    "    \"\"\"\n",
    "\n",
    "    def __init__(self, in_channels, out_channels, kernel_size, dilation, A=False, **kwargs):\n",
    "        super(CausalConv1d, self).__init__()\n",
    "\n",
    "        # attributes:\n",
    "        self.kernel_size = kernel_size\n",
    "        self.dilation = dilation\n",
    "        self.A = A\n",
    "        \n",
    "        self.padding = (kernel_size - 1) * dilation + A * 1\n",
    "\n",
    "        # module:\n",
    "        self.conv1d = torch.nn.Conv1d(in_channels, out_channels,\n",
    "                                      kernel_size, stride=1,\n",
    "                                      padding=0,\n",
    "                                      dilation=dilation,\n",
    "                                      **kwargs)\n",
    "\n",
    "    def forward(self, x):\n",
    "        x = torch.nn.functional.pad(x, (self.padding, 0))\n",
    "        conv1d_out = self.conv1d(x)\n",
    "        if self.A:\n",
    "            return conv1d_out[:, :, : -1]\n",
    "        else:\n",
    "            return conv1d_out"
   ]
  },
  {
   "cell_type": "markdown",
   "metadata": {},
   "source": [
    "**Quantizer**"
   ]
  },
  {
   "cell_type": "markdown",
   "metadata": {},
   "source": [
    "The quantizer is the crucial component of a neural compressor. It consists of a codebook, a vector of floats. It takes a real-valued input and replaces them with the closests values in the codebook.\n",
    "Please note that we use a real-valued codebook, however, in practice, we can implement it using integers. As a result, we use $K$ bits."
   ]
  },
  {
   "cell_type": "code",
   "execution_count": null,
   "metadata": {},
   "outputs": [],
   "source": [
    "class Quantizer(nn.Module):\n",
    "    def __init__(self, input_dim, codebook_dim, temp=1.e7):\n",
    "        super(Quantizer, self).__init__()\n",
    "        \n",
    "        #temperature for softmax\n",
    "        self.temp = temp\n",
    "        \n",
    "        # dimensionality of the inputs and the codebook\n",
    "        self.input_dim = input_dim\n",
    "        self.codebook_dim = codebook_dim\n",
    "        \n",
    "        # codebook layer (a codebook)\n",
    "        # - we initialize it uniformly\n",
    "        # - we make it Parameter, namely, it is learnable\n",
    "        self.codebook = nn.Parameter(torch.FloatTensor(1, self.codebook_dim,).uniform_(-1/self.codebook_dim, 1/self.codebook_dim))\n",
    "    \n",
    "    # A function for codebook indices (a one-hot representation) to values in the codebook.\n",
    "    def indices2codebook(self, indices_onehot):\n",
    "        return torch.matmul(indices_onehot, self.codebook.to(indices_onehot.device).t()).squeeze()\n",
    "    \n",
    "    # A function to change integers to a one-hot representation.\n",
    "    def indices_to_onehot(self, inputs_shape, indices):\n",
    "        indices_hard = torch.zeros(inputs_shape[0], inputs_shape[1], self.codebook_dim, device=indices.device)\n",
    "        indices_hard.scatter_(2, indices, 1)\n",
    "        return indices_hard\n",
    "    \n",
    "    # The forward function:\n",
    "    # - First, distances are calculated between input values and codebook values.\n",
    "    # - Second, indices (soft - differentiable, hard - non-differentiable) between the encoded values and the codebook values are calculated.\n",
    "    # - Third, the quantizer returns indices and quantized code (the output of the encoder).\n",
    "    # - Fourth, the decoder maps the quantized code to the obeservable space (i.e., it decodes the code back).\n",
    "    def forward(self, inputs):\n",
    "        # inputs - a matrix of floats, B x M\n",
    "        inputs_shape = inputs.shape\n",
    "        codebook = self.codebook.to(inputs.device)\n",
    "        # repeat inputs\n",
    "        inputs_repeat = inputs.unsqueeze(2).repeat(1, 1, self.codebook_dim)\n",
    "        # calculate distances between input values and the codebook values\n",
    "        distances = torch.exp(-torch.sqrt(torch.pow(inputs_repeat - self.codebook.unsqueeze(1), 2)))\n",
    "        \n",
    "        # indices (hard, i.e., nondiff)\n",
    "        indices = torch.argmax(distances, dim=2).unsqueeze(2)\n",
    "        indices_hard = self.indices_to_onehot(inputs_shape=inputs_shape, indices=indices)\n",
    "        \n",
    "        # indices (soft, i.e., diff)\n",
    "        indices_soft = torch.softmax(self.temp * distances, -1)\n",
    "        \n",
    "        # quantized values: we use soft indices here because it allows backpropagation\n",
    "        quantized = self.indices2codebook(indices_onehot=indices_soft)\n",
    "        \n",
    "        return (indices_soft, indices_hard, quantized)"
   ]
  },
  {
   "cell_type": "markdown",
   "metadata": {},
   "source": [
    "**Encoder**"
   ]
  },
  {
   "cell_type": "code",
   "execution_count": null,
   "metadata": {},
   "outputs": [],
   "source": [
    "# The encoder is simply a neural network that takes an image and outputs a corresponding code.\n",
    "class Encoder(nn.Module):\n",
    "    def __init__(self, encoder_net):\n",
    "        super(Encoder, self).__init__()\n",
    "\n",
    "        self.encoder = encoder_net\n",
    "\n",
    "    def encode(self, x):\n",
    "        h_e = self.encoder(x)\n",
    "        return h_e\n",
    "    \n",
    "    def forward(self, x):\n",
    "        return self.encode(x)"
   ]
  },
  {
   "cell_type": "markdown",
   "metadata": {},
   "source": [
    "**Decoder**"
   ]
  },
  {
   "cell_type": "code",
   "execution_count": null,
   "metadata": {},
   "outputs": [],
   "source": [
    "# The decoder is simply a neural network that takes a quantized code and returns an image.\n",
    "class Decoder(nn.Module):\n",
    "    def __init__(self, decoder_net):\n",
    "        super(Decoder, self).__init__()\n",
    "\n",
    "        self.decoder = decoder_net\n",
    "\n",
    "    def decode(self, z):\n",
    "        h_d = self.decoder(z)\n",
    "        return h_d\n",
    "\n",
    "    def forward(self, z, x=None):\n",
    "        x_rec = self.decode(z)\n",
    "        return x_rec"
   ]
  },
  {
   "cell_type": "markdown",
   "metadata": {},
   "source": [
    "**Entropy Coding**"
   ]
  },
  {
   "cell_type": "markdown",
   "metadata": {},
   "source": [
    "Entropy coding is the crucial step in the compression scheme. At this point, we have a quantized code that we want to transmit. In order to send the quantized code, which is typically represented by discerete (non-binary) symbols, it must be translated into a bitstream (a stream o bits).\n",
    "\n",
    "An entropy coder assigns a unique prefix-free code (e.g., unique binary codes like Huffman codes) to each unique symbol that occurs in the input. Two of the most common entropy encoding techniques are Huffman coding and arithmetic coding that require knowing the (estimates of) probabilities of the symbols."
   ]
  },
  {
   "cell_type": "code",
   "execution_count": null,
   "metadata": {},
   "outputs": [],
   "source": [
    "class UniformEntropyCoding(nn.Module):\n",
    "    def __init__(self, code_dim, codebook_dim):\n",
    "        super(UniformEntropyCoding, self).__init__()\n",
    "        self.code_dim = code_dim\n",
    "        self.codebook_dim = codebook_dim\n",
    "        \n",
    "        self.probs = torch.softmax(torch.ones(1, self.code_dim, self.codebook_dim), -1)\n",
    "    \n",
    "    def sample(self, quantizer=None, B=10):\n",
    "        code = torch.zeros(B, self.code_dim, self.codebook_dim)\n",
    "        for b in range(B):\n",
    "            indx = torch.multinomial(torch.softmax(self.probs, -1).squeeze(0), 1).squeeze()\n",
    "            for i in range(self.code_dim):\n",
    "                code[b,i,indx[i]] = 1\n",
    "        \n",
    "        code = quantizer.indices2codebook(code)\n",
    "        return code\n",
    "    \n",
    "    def forward(self, z, x=None):\n",
    "        p = torch.clamp(self.probs, EPS, 1. - EPS)\n",
    "        return -torch.sum(z * torch.log(p), 2)"
   ]
  },
  {
   "cell_type": "code",
   "execution_count": null,
   "metadata": {},
   "outputs": [],
   "source": [
    "class IndependentEntropyCoding(nn.Module):\n",
    "    def __init__(self, code_dim, codebook_dim):\n",
    "        super(IndependentEntropyCoding, self).__init__()\n",
    "        self.code_dim = code_dim\n",
    "        self.codebook_dim = codebook_dim\n",
    "        \n",
    "        self.probs = nn.Parameter(torch.ones(1, self.code_dim, self.codebook_dim))\n",
    "    \n",
    "    def sample(self, quantizer=None, B=10):\n",
    "        code = torch.zeros(B, self.code_dim, self.codebook_dim)\n",
    "        for b in range(B):\n",
    "            indx = torch.multinomial(torch.softmax(self.probs, -1).squeeze(0), 1).squeeze()\n",
    "            for i in range(self.code_dim):\n",
    "                code[b,i,indx[i]] = 1\n",
    "        \n",
    "        code = quantizer.indices2codebook(code)\n",
    "        return code\n",
    "    \n",
    "    def forward(self, z, x=None):\n",
    "        p = torch.clamp(torch.softmax(self.probs, -1), EPS, 1. - EPS)\n",
    "        return -torch.sum(z * torch.log(p), 2)"
   ]
  },
  {
   "cell_type": "code",
   "execution_count": null,
   "metadata": {},
   "outputs": [],
   "source": [
    "class ARMEntropyCoding(nn.Module):\n",
    "    def __init__(self, code_dim, codebook_dim, arm_net):\n",
    "        super(ARMEntropyCoding, self).__init__()\n",
    "        self.code_dim = code_dim\n",
    "        self.codebook_dim = codebook_dim\n",
    "        self.arm_net = arm_net # it takes B x 1 x code_dim and outputs B x codebook_dim x code_dim\n",
    "    \n",
    "    def f(self, x):\n",
    "        device = next(self.parameters()).device\n",
    "        x = x.to(device)\n",
    "        h = self.arm_net(x.unsqueeze(1))\n",
    "        h = h.permute(0, 2, 1)\n",
    "        p = torch.softmax(h, 2)\n",
    "        \n",
    "        return p\n",
    "    \n",
    "    def sample(self, quantizer=None, B=10):\n",
    "        device = next(self.arm_net.parameters()).device\n",
    "        x_new = torch.zeros((B, self.code_dim), device=device)\n",
    "        \n",
    "        for d in range(self.code_dim):\n",
    "            p = self.f(x_new)\n",
    "            indx_d = torch.multinomial(p[:, d, :], num_samples=1)\n",
    "            codebook_value = quantizer.codebook[0, indx_d].squeeze().to(device)\n",
    "            x_new[:, d] = codebook_value\n",
    "        \n",
    "        return x_new\n",
    "\n",
    "    def forward(self, z, x):\n",
    "        p = self.f(x)\n",
    "        return -torch.sum(z * torch.log(p), 2)"
   ]
  },
  {
   "cell_type": "markdown",
   "metadata": {},
   "source": [
    "**Full Neural Compressor**"
   ]
  },
  {
   "cell_type": "code",
   "execution_count": null,
   "metadata": {},
   "outputs": [],
   "source": [
    "class NeuralCompressor(nn.Module):\n",
    "    def __init__(self, encoder, decoder, entropy_coding, quantizer, beta=1., detaching=False):\n",
    "        super(NeuralCompressor, self).__init__()\n",
    "\n",
    "        # we \n",
    "        self.encoder = encoder\n",
    "        self.decoder = decoder\n",
    "        self.entropy_coding = entropy_coding\n",
    "        self.quantizer = quantizer\n",
    "        \n",
    "        # beta determines how strongly we focus on compression against reconstruction quality\n",
    "        self.beta = beta\n",
    "        \n",
    "        # We can detach inputs to the rate, then we learn rate and distortion separately\n",
    "        self.detaching = detaching\n",
    "\n",
    "    def forward(self, x, reduction='avg'):\n",
    "        device = x.device\n",
    "        # encoding\n",
    "        #-non-quantized values\n",
    "        z = self.encoder(x)\n",
    "        #-quantizing\n",
    "        quantizer_out = self.quantizer(z)\n",
    "        \n",
    "        # decoding\n",
    "        x_rec = self.decoder(quantizer_out[2])\n",
    "        \n",
    "        # Distortion (e.g., MSE)\n",
    "        Distortion = torch.mean(torch.pow(x - x_rec, 2), 1)\n",
    "        \n",
    "        # Rate: we use the entropy coding here\n",
    "        Rate = torch.mean(self.entropy_coding(quantizer_out[0].to(device), quantizer_out[2].to(device)), 1)\n",
    "        \n",
    "        # Objective\n",
    "        objective = Distortion + self.beta * Rate\n",
    "        \n",
    "        if reduction == 'sum':\n",
    "            return objective.sum(), Distortion.sum(), Rate.sum()\n",
    "        else:\n",
    "            return objective.mean(), Distortion.mean(), Rate.mean()"
   ]
  },
  {
   "cell_type": "markdown",
   "metadata": {},
   "source": [
    "functions: training, evaluation, plotting"
   ]
  },
  {
   "cell_type": "code",
   "execution_count": null,
   "metadata": {},
   "outputs": [],
   "source": [
    "def evaluation(test_loader, name=None, model_best=None, epoch=None):\n",
    "    # EVALUATION\n",
    "    if model_best is None:\n",
    "        # load best performing model\n",
    "        model_best = torch.load(name + '.model')\n",
    "\n",
    "    model_best.eval()\n",
    "    loss = 0.\n",
    "    distortion = 0.\n",
    "    rate = 0.\n",
    "    N = 0.\n",
    "    for indx_batch, test_batch in enumerate(test_loader):\n",
    "        test_batch = test_batch.to(device)\n",
    "        loss_t, distortion_t, rate_t = model_best.forward(test_batch, reduction='sum')\n",
    "        loss = loss + loss_t.item()\n",
    "        distortion = distortion + distortion_t.item()\n",
    "        rate = rate + rate_t.item()\n",
    "        N = N + test_batch.shape[0]\n",
    "    loss = loss / N\n",
    "    distortion = distortion/N\n",
    "    rate = rate / N\n",
    "\n",
    "    if epoch is None:\n",
    "        print(f'FINAL LOSS: objective={loss} (distortion={distortion}, rate={rate})')\n",
    "    else:\n",
    "        print(f'Epoch: {epoch}, objective val={loss} (distortion={distortion}, rate={rate})')\n",
    "\n",
    "    return loss, distortion, rate\n",
    "\n",
    "def plot_curve(name, nll_val, metric_name='loss'):\n",
    "    plt.plot(np.arange(len(nll_val)), nll_val, linewidth='3')\n",
    "    plt.xlabel('epochs')\n",
    "    plt.ylabel(metric_name)\n",
    "    plt.savefig(name + metric_name + '_val_curve.pdf', bbox_inches='tight')\n",
    "    plt.close()"
   ]
  },
  {
   "cell_type": "code",
   "execution_count": null,
   "metadata": {},
   "outputs": [],
   "source": [
    "def training(name, max_patience, num_epochs, model, optimizer, training_loader, val_loader):\n",
    "    objective_loss_val = []\n",
    "    objective_distortion_val = []\n",
    "    objective_rate_val = []\n",
    "    loss_best = 1000.\n",
    "    patience = 0\n",
    "\n",
    "    # Main loop\n",
    "    for e in range(num_epochs):\n",
    "        # TRAINING\n",
    "        model.train()\n",
    "        for indx_batch, batch in enumerate(training_loader):\n",
    "            batch = batch.to(device)\n",
    "            if hasattr(model, 'dequantization'):\n",
    "                if model.dequantization:\n",
    "                    batch = batch + torch.rand(batch.shape)\n",
    "            loss, _, _ = model.forward(batch)\n",
    "\n",
    "            optimizer.zero_grad()\n",
    "            loss.backward(retain_graph=True)\n",
    "            optimizer.step()\n",
    "\n",
    "        # Validation\n",
    "        loss_val, distortion_val, rate_val = evaluation(val_loader, model_best=model, epoch=e)\n",
    "        objective_loss_val.append(loss_val)  # save for plotting\n",
    "        objective_distortion_val.append(distortion_val)  # save for plotting\n",
    "        objective_rate_val.append(rate_val)  # save for plotting\n",
    "\n",
    "        if e == 0:\n",
    "            print('saved!')\n",
    "            torch.save(model, name + '.model')\n",
    "            loss_best = loss_val\n",
    "        else:\n",
    "            if loss_val < loss_best:\n",
    "                print('saved!')\n",
    "                torch.save(model, name + '.model')\n",
    "                loss_best = loss_val\n",
    "                patience = 0\n",
    "            else:\n",
    "                patience = patience + 1\n",
    "\n",
    "        if patience > max_patience:\n",
    "            break\n",
    "\n",
    "    objective_loss_val = np.asarray(objective_loss_val)\n",
    "    objective_distortion_val = np.asarray(objective_distortion_val)\n",
    "    objective_rate_val = np.asarray(objective_rate_val)\n",
    "\n",
    "    return objective_loss_val, objective_distortion_val, objective_rate_val"
   ]
  },
  {
   "cell_type": "markdown",
   "metadata": {},
   "source": [
    "### Initialize dataloaders"
   ]
  },
  {
   "cell_type": "code",
   "execution_count": null,
   "metadata": {},
   "outputs": [],
   "source": [
    "train_data = ImageDataset(train_file_list, transform)\n",
    "val_data = ImageDataset(valid_file_list, transform)\n",
    "test_data = ImageDataset(test_file_list, transform)\n",
    "\n",
    "training_loader = DataLoader(train_data, batch_size=64, shuffle=True)\n",
    "val_loader = DataLoader(val_data, batch_size=64, shuffle=False)\n",
    "test_loader = DataLoader(test_data, batch_size=64, shuffle=False)"
   ]
  },
  {
   "cell_type": "markdown",
   "metadata": {},
   "source": [
    "### Hyperparams"
   ]
  },
  {
   "cell_type": "code",
   "execution_count": null,
   "metadata": {},
   "outputs": [],
   "source": [
    "entropy_coding_type = 'arm' # arm or indp or uniform\n",
    "D = 28 * 28   # input dimension\n",
    "C = 32  # code length\n",
    "E = 64 # codebook size (i.e., the number of quantized values)\n",
    "M = 512  # the number of neurons\n",
    "M_kernels = 64 # the number of kernels in causal conv1d layers\n",
    "\n",
    "# beta: how much we weight rate\n",
    "if entropy_coding_type == 'uniform':\n",
    "    beta = 0. \n",
    "else:\n",
    "    beta = 1.\n",
    "\n",
    "lr = 1e-3 # learning rate\n",
    "num_epochs = 1000 # max. number of epochs\n",
    "max_patience = 50 # an early stopping is used, if training doesn't improve for longer than 20 epochs, it is stopped"
   ]
  },
  {
   "cell_type": "code",
   "execution_count": null,
   "metadata": {},
   "outputs": [],
   "source": [
    "result_dir = 'results/'\n",
    "if not(os.path.exists(result_dir)):\n",
    "    os.mkdir(result_dir)\n",
    "name = 'neural_compressor_' + entropy_coding_type + '_C_' + str(C) + '_E_' + str(E)"
   ]
  },
  {
   "cell_type": "markdown",
   "metadata": {},
   "source": [
    "### Initialize Neural Compressor"
   ]
  },
  {
   "cell_type": "code",
   "execution_count": null,
   "metadata": {},
   "outputs": [],
   "source": [
    "# ENCODER\n",
    "encoder_net = nn.Sequential(nn.Linear(D, M*2), nn.BatchNorm1d(M*2), nn.ReLU(),\n",
    "                            nn.Linear(M*2, M), nn.BatchNorm1d(M), nn.ReLU(),\n",
    "                            nn.Linear(M, M//2), nn.BatchNorm1d(M//2), nn.ReLU(),\n",
    "                            nn.Linear(M//2, M//4), nn.BatchNorm1d(M//4), nn.ReLU(),\n",
    "                            nn.Linear(M//4, C))\n",
    "\n",
    "encoder = Encoder(encoder_net=encoder_net)\n",
    "\n",
    "# DECODER\n",
    "decoder_net = nn.Sequential(nn.Linear(C, M//4), nn.BatchNorm1d(M//4), nn.ReLU(),\n",
    "                            nn.Linear(M//4, M//2), nn.BatchNorm1d(M//2), nn.ReLU(),\n",
    "                            nn.Linear(M//2, M), nn.BatchNorm1d(M), nn.ReLU(),\n",
    "                            nn.Linear(M, M*2), nn.BatchNorm1d(M*2), nn.ReLU(),\n",
    "                            nn.Linear(M*2, D))\n",
    "\n",
    "# # ENCODER\n",
    "# encoder_net = nn.Sequential(nn.Linear(D, M*2), nn.BatchNorm1d(M*2), nn.ReLU(),\n",
    "#                             nn.Linear(M*2, M), nn.BatchNorm1d(M), nn.ReLU(),\n",
    "#                             nn.Linear(M, M//2), nn.BatchNorm1d(M//2), nn.ReLU(),\n",
    "#                             nn.Linear(M//2, C))\n",
    "\n",
    "# encoder = Encoder(encoder_net=encoder_net)\n",
    "\n",
    "# # DECODER\n",
    "# decoder_net = nn.Sequential(nn.Linear(C, M//2), nn.BatchNorm1d(M//2), nn.ReLU(),\n",
    "#                             nn.Linear(M//2, M), nn.BatchNorm1d(M), nn.ReLU(),\n",
    "#                             nn.Linear(M, M*2), nn.BatchNorm1d(M*2), nn.ReLU(),\n",
    "#                             nn.Linear(M*2, D))\n",
    "\n",
    "decoder = Decoder(decoder_net=decoder_net)\n",
    "\n",
    "# QUANTIZER\n",
    "quantizer = Quantizer(input_dim=C, codebook_dim=E)\n",
    "\n",
    "# ENTROPY CODING\n",
    "if entropy_coding_type == 'uniform':\n",
    "    entropy_coding = UniformEntropyCoding(code_dim=C, codebook_dim=E)\n",
    "    \n",
    "elif entropy_coding_type == 'indp':\n",
    "    entropy_coding = IndependentEntropyCoding(code_dim=C, codebook_dim=E)\n",
    "\n",
    "elif entropy_coding_type == 'arm':\n",
    "    kernel = 4\n",
    "    arm_net = nn.Sequential(\n",
    "        CausalConv1d(in_channels=1, out_channels=M_kernels, dilation=1, kernel_size=kernel, A=True, bias=True),\n",
    "        nn.LeakyReLU(),\n",
    "        CausalConv1d(in_channels=M_kernels, out_channels=M_kernels, dilation=1, kernel_size=kernel, A=False, bias=True),\n",
    "        nn.LeakyReLU(),\n",
    "        CausalConv1d(in_channels=M_kernels, out_channels=E, dilation=1, kernel_size=kernel, A=False, bias=True))\n",
    "\n",
    "    entropy_coding = ARMEntropyCoding(code_dim=C, codebook_dim=E, arm_net=arm_net).to(device)\n",
    "\n",
    "# MODEL\n",
    "model = NeuralCompressor(encoder=encoder, decoder=decoder, entropy_coding=entropy_coding, quantizer=quantizer, beta=beta)\n",
    "model = model.to(device)"
   ]
  },
  {
   "cell_type": "markdown",
   "metadata": {},
   "source": [
    "### Training"
   ]
  },
  {
   "cell_type": "code",
   "execution_count": null,
   "metadata": {},
   "outputs": [],
   "source": [
    "# OPTIMIZER\n",
    "optimizer = torch.optim.Adamax([p for p in model.parameters() if p.requires_grad == True], lr=lr)"
   ]
  },
  {
   "cell_type": "code",
   "execution_count": null,
   "metadata": {},
   "outputs": [],
   "source": [
    "# Training procedure\n",
    "objective_loss_val, objective_distortion_val, objective_rate_val = training(name=result_dir + name, max_patience=max_patience, num_epochs=num_epochs, model=model, \n",
    "                   optimizer=optimizer,\n",
    "                   training_loader=training_loader, val_loader=val_loader)"
   ]
  },
  {
   "cell_type": "code",
   "execution_count": null,
   "metadata": {},
   "outputs": [],
   "source": [
    "test_loss, test_distortion, test_rate = evaluation(name=result_dir + name, test_loader=test_loader)\n",
    "f = open(result_dir + name + '_test_loss.txt', \"w\")\n",
    "f.write(str(test_loss) + ', ' + str(test_distortion) + ', ' + str(test_rate))\n",
    "f.close()\n",
    "\n",
    "plot_curve(result_dir + name + '_objective_', objective_loss_val, metric_name='objective')\n",
    "plot_curve(result_dir + name + '_distortion_', objective_distortion_val, metric_name='distortion')\n",
    "plot_curve(result_dir + name + '_rate_', objective_rate_val, metric_name='rate')"
   ]
  },
  {
   "cell_type": "markdown",
   "metadata": {},
   "source": [
    "### Qualitative inspection"
   ]
  },
  {
   "cell_type": "markdown",
   "metadata": {},
   "source": [
    "Here, we visualize samples and reconstructions. "
   ]
  },
  {
   "cell_type": "code",
   "execution_count": null,
   "metadata": {},
   "outputs": [],
   "source": [
    "# We specifies ids of images from the test set.\n",
    "#IMG_IDs = [13, 36, 60, 80]\n",
    "#IMG_IDs = [33, 66, 50, 30]\n",
    "#IMG_IDs = [1, 2, 3, 4]\n",
    "#IMG_IDs = [91, 31, 41, 73] #best reconstruction\n",
    "#IMG_IDs = [92, 93, 94, 95]\n",
    "#IMG_IDs = [51, 52, 53, 54, 99]\n",
    "#IMG_IDs = [55, 56, 57, 58, 59]\n",
    "#IMG_IDs = [61, 62, 63, 64, 65]\n",
    "#IMG_IDs = [67, 69, 70, 71, 72]\n",
    "IMG_IDs = np.random.randint(0, 99, 5)\n",
    "\n",
    "# samples\n",
    "z_sampled = model.entropy_coding.sample(quantizer=model.quantizer, B=9)\n",
    "x_sampled = model.decoder(z_sampled)\n",
    "\n",
    "# reconstructions\n",
    "x_real = torch.stack([test_data.__getitem__(x) for x in IMG_IDs]).to(device)\n",
    "z_encoded = model.encoder(x_real)\n",
    "x_rec = model.decoder(model.quantizer(z_encoded)[-1])\n",
    "\n",
    "# plotting\n",
    "fig, axs = plt.subplots(5, 2, figsize=(15, 15))\n",
    "for i in range(len(IMG_IDs)):\n",
    "    # Original image\n",
    "    original_img = x_real[i].cpu().reshape(28,28).detach().numpy()\n",
    "    axs[i,0].imshow(original_img, cmap ='gray')\n",
    "    original_size = original_img.nbytes\n",
    "    axs[i,0].set_title(f'Original (Size: {original_size} bytes)')\n",
    "    axs[i,0].axis('off')\n",
    "\n",
    "    # Encoded representation\n",
    "    encoded_size = z_encoded[i].cpu().numel() * z_encoded[i].element_size()  # Size in bytes\n",
    "    compression_ratio = original_size / encoded_size\n",
    "    \n",
    "    # Reconstructed image (for visualization)\n",
    "    reconstructed_img = x_rec[i].cpu().reshape(28,28).detach().numpy()\n",
    "    axs[i,1].imshow(reconstructed_img, cmap='gray')\n",
    "    axs[i,1].set_title(f'Reconstruction\\nEncoded size: {encoded_size} bytes\\nCompression ratio: {compression_ratio:.2f}x')\n",
    "    axs[i,1].axis('off')\n",
    "\n",
    "plt.tight_layout()\n",
    "plt.savefig(result_dir + name + 'recon_sample.pdf', bbox_inches='tight')"
   ]
  }
 ],
 "metadata": {
  "kernelspec": {
   "display_name": "Python 3",
   "language": "python",
   "name": "python3"
  },
  "language_info": {
   "codemirror_mode": {
    "name": "ipython",
    "version": 3
   },
   "file_extension": ".py",
   "mimetype": "text/x-python",
   "name": "python",
   "nbconvert_exporter": "python",
   "pygments_lexer": "ipython3",
   "version": "3.8.2"
  }
 },
 "nbformat": 4,
 "nbformat_minor": 2
}
